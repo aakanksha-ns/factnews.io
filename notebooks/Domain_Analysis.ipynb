{
 "cells": [
  {
   "cell_type": "code",
   "execution_count": 20,
   "metadata": {
    "ExecuteTime": {
     "end_time": "2020-04-21T20:18:45.255049Z",
     "start_time": "2020-04-21T20:18:44.276390Z"
    }
   },
   "outputs": [],
   "source": [
    "import pandas as pd\n",
    "import numpy as np\n",
    "from sklearn.ensemble import RandomForestClassifier\n",
    "from sklearn.model_selection import train_test_split\n",
    "from sklearn.metrics import accuracy_score\n",
    "from sklearn.model_selection import cross_val_score\n",
    "from matplotlib import pyplot as plt\n",
    "from rfpimp import *\n",
    "from collections import Counter\n",
    "import warnings\n",
    "warnings.filterwarnings(\"ignore\")"
   ]
  },
  {
   "cell_type": "markdown",
   "metadata": {},
   "source": [
    "## Data import"
   ]
  },
  {
   "cell_type": "code",
   "execution_count": 21,
   "metadata": {
    "ExecuteTime": {
     "end_time": "2020-04-21T20:18:45.283711Z",
     "start_time": "2020-04-21T20:18:45.257012Z"
    }
   },
   "outputs": [],
   "source": [
    "# Real links\n",
    "fin = pd.read_csv('data/Real_links.csv')"
   ]
  },
  {
   "cell_type": "code",
   "execution_count": 22,
   "metadata": {
    "ExecuteTime": {
     "end_time": "2020-04-21T20:18:45.310117Z",
     "start_time": "2020-04-21T20:18:45.285643Z"
    }
   },
   "outputs": [],
   "source": [
    "# Fake links\n",
    "file = pd.read_csv('data/fake_all.csv')"
   ]
  },
  {
   "cell_type": "code",
   "execution_count": 23,
   "metadata": {
    "ExecuteTime": {
     "end_time": "2020-04-21T20:18:45.323477Z",
     "start_time": "2020-04-21T20:18:45.311689Z"
    }
   },
   "outputs": [
    {
     "data": {
      "text/html": [
       "<div>\n",
       "<style scoped>\n",
       "    .dataframe tbody tr th:only-of-type {\n",
       "        vertical-align: middle;\n",
       "    }\n",
       "\n",
       "    .dataframe tbody tr th {\n",
       "        vertical-align: top;\n",
       "    }\n",
       "\n",
       "    .dataframe thead th {\n",
       "        text-align: right;\n",
       "    }\n",
       "</style>\n",
       "<table border=\"1\" class=\"dataframe\">\n",
       "  <thead>\n",
       "    <tr style=\"text-align: right;\">\n",
       "      <th></th>\n",
       "      <th>0</th>\n",
       "      <th>1</th>\n",
       "      <th>2</th>\n",
       "      <th>3</th>\n",
       "      <th>4</th>\n",
       "      <th>5</th>\n",
       "      <th>6</th>\n",
       "      <th>7</th>\n",
       "      <th>8</th>\n",
       "      <th>9</th>\n",
       "    </tr>\n",
       "  </thead>\n",
       "  <tbody>\n",
       "    <tr>\n",
       "      <th>0</th>\n",
       "      <td>addictinginfo</td>\n",
       "      <td>independent</td>\n",
       "      <td>theweek</td>\n",
       "      <td>businessinsider</td>\n",
       "      <td>express</td>\n",
       "      <td>google</td>\n",
       "      <td>NaN</td>\n",
       "      <td>NaN</td>\n",
       "      <td>NaN</td>\n",
       "      <td>NaN</td>\n",
       "    </tr>\n",
       "    <tr>\n",
       "      <th>1</th>\n",
       "      <td>nytimes</td>\n",
       "      <td>vox</td>\n",
       "      <td>addictinginfo</td>\n",
       "      <td>nbcnews</td>\n",
       "      <td>whatthefuckjusthappenedtoday</td>\n",
       "      <td>theguardian</td>\n",
       "      <td>cnn</td>\n",
       "      <td>wikipedia</td>\n",
       "      <td>factcheck</td>\n",
       "      <td>thehill</td>\n",
       "    </tr>\n",
       "    <tr>\n",
       "      <th>2</th>\n",
       "      <td>addictinginfo</td>\n",
       "      <td>wikipedia</td>\n",
       "      <td>newsweek</td>\n",
       "      <td>milwaukeemag</td>\n",
       "      <td>pinterest</td>\n",
       "      <td>opensecrets</td>\n",
       "      <td>nationalmemo</td>\n",
       "      <td>reverseshot</td>\n",
       "      <td>amgreatness</td>\n",
       "      <td>google</td>\n",
       "    </tr>\n",
       "    <tr>\n",
       "      <th>3</th>\n",
       "      <td>newsweek</td>\n",
       "      <td>theatlantic</td>\n",
       "      <td>nationalreview</td>\n",
       "      <td>nytimes</td>\n",
       "      <td>nymag</td>\n",
       "      <td>theguardian</td>\n",
       "      <td>wikipedia</td>\n",
       "      <td>wikipedia</td>\n",
       "      <td>whitehouse</td>\n",
       "      <td>nbcnews</td>\n",
       "    </tr>\n",
       "    <tr>\n",
       "      <th>4</th>\n",
       "      <td>nytimes</td>\n",
       "      <td>theguardian</td>\n",
       "      <td>npr</td>\n",
       "      <td>washingtontimes</td>\n",
       "      <td>washingtontimes</td>\n",
       "      <td>wsj</td>\n",
       "      <td>wsj</td>\n",
       "      <td>cnn</td>\n",
       "      <td>newsweek</td>\n",
       "      <td>dailymail</td>\n",
       "    </tr>\n",
       "  </tbody>\n",
       "</table>\n",
       "</div>"
      ],
      "text/plain": [
       "               0            1               2                3  \\\n",
       "0  addictinginfo  independent         theweek  businessinsider   \n",
       "1        nytimes          vox   addictinginfo          nbcnews   \n",
       "2  addictinginfo    wikipedia        newsweek     milwaukeemag   \n",
       "3       newsweek  theatlantic  nationalreview          nytimes   \n",
       "4        nytimes  theguardian             npr  washingtontimes   \n",
       "\n",
       "                              4            5             6            7  \\\n",
       "0                       express       google           NaN          NaN   \n",
       "1  whatthefuckjusthappenedtoday  theguardian           cnn    wikipedia   \n",
       "2                     pinterest  opensecrets  nationalmemo  reverseshot   \n",
       "3                         nymag  theguardian     wikipedia    wikipedia   \n",
       "4               washingtontimes          wsj           wsj          cnn   \n",
       "\n",
       "             8          9  \n",
       "0          NaN        NaN  \n",
       "1    factcheck    thehill  \n",
       "2  amgreatness     google  \n",
       "3   whitehouse    nbcnews  \n",
       "4     newsweek  dailymail  "
      ]
     },
     "execution_count": 23,
     "metadata": {},
     "output_type": "execute_result"
    }
   ],
   "source": [
    "file.head()"
   ]
  },
  {
   "cell_type": "code",
   "execution_count": 24,
   "metadata": {
    "ExecuteTime": {
     "end_time": "2020-04-21T20:18:45.327176Z",
     "start_time": "2020-04-21T20:18:45.324542Z"
    }
   },
   "outputs": [],
   "source": [
    "file['label'] = 0"
   ]
  },
  {
   "cell_type": "code",
   "execution_count": 25,
   "metadata": {
    "ExecuteTime": {
     "end_time": "2020-04-21T20:18:45.343617Z",
     "start_time": "2020-04-21T20:18:45.328268Z"
    }
   },
   "outputs": [],
   "source": [
    "combined = pd.concat([fin,file])\n",
    "combined = combined.fillna('Unknown')"
   ]
  },
  {
   "cell_type": "code",
   "execution_count": 26,
   "metadata": {
    "ExecuteTime": {
     "end_time": "2020-04-21T20:18:45.354720Z",
     "start_time": "2020-04-21T20:18:45.344824Z"
    }
   },
   "outputs": [
    {
     "data": {
      "text/html": [
       "<div>\n",
       "<style scoped>\n",
       "    .dataframe tbody tr th:only-of-type {\n",
       "        vertical-align: middle;\n",
       "    }\n",
       "\n",
       "    .dataframe tbody tr th {\n",
       "        vertical-align: top;\n",
       "    }\n",
       "\n",
       "    .dataframe thead th {\n",
       "        text-align: right;\n",
       "    }\n",
       "</style>\n",
       "<table border=\"1\" class=\"dataframe\">\n",
       "  <thead>\n",
       "    <tr style=\"text-align: right;\">\n",
       "      <th></th>\n",
       "      <th>0</th>\n",
       "      <th>1</th>\n",
       "      <th>2</th>\n",
       "      <th>3</th>\n",
       "      <th>4</th>\n",
       "      <th>5</th>\n",
       "      <th>6</th>\n",
       "      <th>7</th>\n",
       "      <th>8</th>\n",
       "      <th>9</th>\n",
       "      <th>label</th>\n",
       "    </tr>\n",
       "  </thead>\n",
       "  <tbody>\n",
       "    <tr>\n",
       "      <th>0</th>\n",
       "      <td>bbc</td>\n",
       "      <td>reuters</td>\n",
       "      <td>youtube</td>\n",
       "      <td>youtube</td>\n",
       "      <td>jpost</td>\n",
       "      <td>newsweek</td>\n",
       "      <td>nytimes</td>\n",
       "      <td>expressdigest</td>\n",
       "      <td>investing</td>\n",
       "      <td>wetinhappen</td>\n",
       "      <td>1</td>\n",
       "    </tr>\n",
       "    <tr>\n",
       "      <th>1</th>\n",
       "      <td>reuters</td>\n",
       "      <td>jpost</td>\n",
       "      <td>refworld</td>\n",
       "      <td>wikipedia</td>\n",
       "      <td>aljazeera</td>\n",
       "      <td>npr</td>\n",
       "      <td>theguardian</td>\n",
       "      <td>cbsnews</td>\n",
       "      <td>cfr</td>\n",
       "      <td>wsj</td>\n",
       "      <td>1</td>\n",
       "    </tr>\n",
       "    <tr>\n",
       "      <th>2</th>\n",
       "      <td>reuters</td>\n",
       "      <td>wikipedia</td>\n",
       "      <td>wikipedia</td>\n",
       "      <td>antiwar</td>\n",
       "      <td>dailymail</td>\n",
       "      <td>google</td>\n",
       "      <td>theautomaticearth</td>\n",
       "      <td>crediblecarbon</td>\n",
       "      <td>hurriyetdailynews</td>\n",
       "      <td>theguardian</td>\n",
       "      <td>1</td>\n",
       "    </tr>\n",
       "    <tr>\n",
       "      <th>3</th>\n",
       "      <td>reuters</td>\n",
       "      <td>reddit</td>\n",
       "      <td>nytimes</td>\n",
       "      <td>nytimes</td>\n",
       "      <td>cnn</td>\n",
       "      <td>theatlantic</td>\n",
       "      <td>newyorker</td>\n",
       "      <td>bbc</td>\n",
       "      <td>scmp</td>\n",
       "      <td>business-standard</td>\n",
       "      <td>1</td>\n",
       "    </tr>\n",
       "    <tr>\n",
       "      <th>4</th>\n",
       "      <td>reuters</td>\n",
       "      <td>nytimes</td>\n",
       "      <td>wikipedia</td>\n",
       "      <td>go</td>\n",
       "      <td>irishtimes</td>\n",
       "      <td>twitter</td>\n",
       "      <td>theguardian</td>\n",
       "      <td>wsj</td>\n",
       "      <td>dailymail</td>\n",
       "      <td>dw</td>\n",
       "      <td>1</td>\n",
       "    </tr>\n",
       "  </tbody>\n",
       "</table>\n",
       "</div>"
      ],
      "text/plain": [
       "         0          1          2          3           4            5  \\\n",
       "0      bbc    reuters    youtube    youtube       jpost     newsweek   \n",
       "1  reuters      jpost   refworld  wikipedia   aljazeera          npr   \n",
       "2  reuters  wikipedia  wikipedia    antiwar   dailymail       google   \n",
       "3  reuters     reddit    nytimes    nytimes         cnn  theatlantic   \n",
       "4  reuters    nytimes  wikipedia         go  irishtimes      twitter   \n",
       "\n",
       "                   6               7                  8                  9  \\\n",
       "0            nytimes   expressdigest          investing        wetinhappen   \n",
       "1        theguardian         cbsnews                cfr                wsj   \n",
       "2  theautomaticearth  crediblecarbon  hurriyetdailynews        theguardian   \n",
       "3          newyorker             bbc               scmp  business-standard   \n",
       "4        theguardian             wsj          dailymail                 dw   \n",
       "\n",
       "   label  \n",
       "0      1  \n",
       "1      1  \n",
       "2      1  \n",
       "3      1  \n",
       "4      1  "
      ]
     },
     "execution_count": 26,
     "metadata": {},
     "output_type": "execute_result"
    }
   ],
   "source": [
    "combined.head()"
   ]
  },
  {
   "cell_type": "code",
   "execution_count": 27,
   "metadata": {
    "ExecuteTime": {
     "end_time": "2020-04-21T20:18:45.359083Z",
     "start_time": "2020-04-21T20:18:45.355898Z"
    }
   },
   "outputs": [],
   "source": [
    "def flatten(X):\n",
    "    \"\"\"\n",
    "    function to flatten a list\n",
    "    \"\"\"\n",
    "    flat_list = []\n",
    "    for sublist in X.values:\n",
    "        for item in sublist:\n",
    "            flat_list.append(item)\n",
    "    return flat_list"
   ]
  },
  {
   "cell_type": "code",
   "execution_count": 28,
   "metadata": {
    "ExecuteTime": {
     "end_time": "2020-04-21T20:18:45.363675Z",
     "start_time": "2020-04-21T20:18:45.360291Z"
    }
   },
   "outputs": [],
   "source": [
    "def plot(flat_list):\n",
    "    \"\"\"\n",
    "    function to plot bar chart\n",
    "    \"\"\"\n",
    "    l1 =[]\n",
    "    l2 = []\n",
    "    for i in Counter(flat_list).most_common(15):\n",
    "        l1.append(i[0])\n",
    "        l2.append(i[1])\n",
    "    plt.bar(l1,l2)\n",
    "    plt.xticks(rotation=90)"
   ]
  },
  {
   "cell_type": "code",
   "execution_count": 29,
   "metadata": {
    "ExecuteTime": {
     "end_time": "2020-04-21T20:18:45.372651Z",
     "start_time": "2020-04-21T20:18:45.365153Z"
    }
   },
   "outputs": [],
   "source": [
    "real = combined.loc[combined['label']==1]\n",
    "real = real.iloc[:,:-1]\n",
    "fake = combined.loc[combined['label']==0]\n",
    "fake = fake.iloc[:,:-1]"
   ]
  },
  {
   "cell_type": "markdown",
   "metadata": {},
   "source": [
    "## EDA"
   ]
  },
  {
   "cell_type": "markdown",
   "metadata": {},
   "source": [
    "## Real Links"
   ]
  },
  {
   "cell_type": "code",
   "execution_count": 30,
   "metadata": {
    "ExecuteTime": {
     "end_time": "2020-04-21T20:18:45.589444Z",
     "start_time": "2020-04-21T20:18:45.375762Z"
    }
   },
   "outputs": [
    {
     "data": {
      "image/png": "[encoded data removed]",
      "text/plain": [
       "<Figure size 432x288 with 1 Axes>"
      ]
     },
     "metadata": {
      "needs_background": "light"
     },
     "output_type": "display_data"
    }
   ],
   "source": [
    "plot(flatten(real))"
   ]
  },
  {
   "cell_type": "markdown",
   "metadata": {},
   "source": [
    "## Fake Links"
   ]
  },
  {
   "cell_type": "code",
   "execution_count": 31,
   "metadata": {
    "ExecuteTime": {
     "end_time": "2020-04-21T20:18:45.791906Z",
     "start_time": "2020-04-21T20:18:45.591081Z"
    }
   },
   "outputs": [
    {
     "data": {
      "image/png": "[encoded data removed]",
      "text/plain": [
       "<Figure size 432x288 with 1 Axes>"
      ]
     },
     "metadata": {
      "needs_background": "light"
     },
     "output_type": "display_data"
    }
   ],
   "source": [
    "plot(flatten(fake))"
   ]
  },
  {
   "cell_type": "code",
   "execution_count": 32,
   "metadata": {
    "ExecuteTime": {
     "end_time": "2020-04-21T20:18:45.883986Z",
     "start_time": "2020-04-21T20:18:45.793151Z"
    }
   },
   "outputs": [],
   "source": [
    "# Combined csv\n",
    "combined.to_csv('Training_data.csv', index=False)"
   ]
  },
  {
   "cell_type": "code",
   "execution_count": 33,
   "metadata": {
    "ExecuteTime": {
     "end_time": "2020-04-21T20:18:45.889734Z",
     "start_time": "2020-04-21T20:18:45.885697Z"
    }
   },
   "outputs": [],
   "source": [
    "y = combined['label']\n",
    "X = combined[['0', '1', '2', '3', '4', '5', '6', '7', '8', '9']]"
   ]
  },
  {
   "cell_type": "code",
   "execution_count": 34,
   "metadata": {
    "ExecuteTime": {
     "end_time": "2020-04-21T20:18:45.924648Z",
     "start_time": "2020-04-21T20:18:45.890860Z"
    }
   },
   "outputs": [],
   "source": [
    "flat_list = flatten(X)"
   ]
  },
  {
   "cell_type": "code",
   "execution_count": 35,
   "metadata": {
    "ExecuteTime": {
     "end_time": "2020-04-21T20:18:46.388321Z",
     "start_time": "2020-04-21T20:18:45.926193Z"
    }
   },
   "outputs": [],
   "source": [
    "# Encoding\n",
    "links = list(set(flat_list))\n",
    "links_dict = {links[i]:i for i in range(len(links))}\n",
    "for i in X.columns:\n",
    "    X[i] = X[i].apply(lambda x: links_dict[x])"
   ]
  },
  {
   "cell_type": "code",
   "execution_count": 36,
   "metadata": {
    "ExecuteTime": {
     "end_time": "2020-04-21T20:18:46.400152Z",
     "start_time": "2020-04-21T20:18:46.390189Z"
    }
   },
   "outputs": [
    {
     "data": {
      "text/html": [
       "<div>\n",
       "<style scoped>\n",
       "    .dataframe tbody tr th:only-of-type {\n",
       "        vertical-align: middle;\n",
       "    }\n",
       "\n",
       "    .dataframe tbody tr th {\n",
       "        vertical-align: top;\n",
       "    }\n",
       "\n",
       "    .dataframe thead th {\n",
       "        text-align: right;\n",
       "    }\n",
       "</style>\n",
       "<table border=\"1\" class=\"dataframe\">\n",
       "  <thead>\n",
       "    <tr style=\"text-align: right;\">\n",
       "      <th></th>\n",
       "      <th>0</th>\n",
       "      <th>1</th>\n",
       "      <th>2</th>\n",
       "      <th>3</th>\n",
       "      <th>4</th>\n",
       "      <th>5</th>\n",
       "      <th>6</th>\n",
       "      <th>7</th>\n",
       "      <th>8</th>\n",
       "      <th>9</th>\n",
       "    </tr>\n",
       "  </thead>\n",
       "  <tbody>\n",
       "    <tr>\n",
       "      <th>0</th>\n",
       "      <td>7052</td>\n",
       "      <td>6471</td>\n",
       "      <td>1438</td>\n",
       "      <td>1438</td>\n",
       "      <td>5394</td>\n",
       "      <td>2849</td>\n",
       "      <td>2765</td>\n",
       "      <td>93</td>\n",
       "      <td>547</td>\n",
       "      <td>10135</td>\n",
       "    </tr>\n",
       "    <tr>\n",
       "      <th>1</th>\n",
       "      <td>6471</td>\n",
       "      <td>5394</td>\n",
       "      <td>891</td>\n",
       "      <td>2913</td>\n",
       "      <td>4173</td>\n",
       "      <td>7078</td>\n",
       "      <td>3994</td>\n",
       "      <td>575</td>\n",
       "      <td>5748</td>\n",
       "      <td>5566</td>\n",
       "    </tr>\n",
       "    <tr>\n",
       "      <th>2</th>\n",
       "      <td>6471</td>\n",
       "      <td>2913</td>\n",
       "      <td>2913</td>\n",
       "      <td>2851</td>\n",
       "      <td>10482</td>\n",
       "      <td>2006</td>\n",
       "      <td>7047</td>\n",
       "      <td>5319</td>\n",
       "      <td>3692</td>\n",
       "      <td>3994</td>\n",
       "    </tr>\n",
       "    <tr>\n",
       "      <th>3</th>\n",
       "      <td>6471</td>\n",
       "      <td>7265</td>\n",
       "      <td>2765</td>\n",
       "      <td>2765</td>\n",
       "      <td>5537</td>\n",
       "      <td>8950</td>\n",
       "      <td>1329</td>\n",
       "      <td>7052</td>\n",
       "      <td>6944</td>\n",
       "      <td>10735</td>\n",
       "    </tr>\n",
       "    <tr>\n",
       "      <th>4</th>\n",
       "      <td>6471</td>\n",
       "      <td>2765</td>\n",
       "      <td>2913</td>\n",
       "      <td>3589</td>\n",
       "      <td>1905</td>\n",
       "      <td>8028</td>\n",
       "      <td>3994</td>\n",
       "      <td>5566</td>\n",
       "      <td>10482</td>\n",
       "      <td>1220</td>\n",
       "    </tr>\n",
       "  </tbody>\n",
       "</table>\n",
       "</div>"
      ],
      "text/plain": [
       "      0     1     2     3      4     5     6     7      8      9\n",
       "0  7052  6471  1438  1438   5394  2849  2765    93    547  10135\n",
       "1  6471  5394   891  2913   4173  7078  3994   575   5748   5566\n",
       "2  6471  2913  2913  2851  10482  2006  7047  5319   3692   3994\n",
       "3  6471  7265  2765  2765   5537  8950  1329  7052   6944  10735\n",
       "4  6471  2765  2913  3589   1905  8028  3994  5566  10482   1220"
      ]
     },
     "execution_count": 36,
     "metadata": {},
     "output_type": "execute_result"
    }
   ],
   "source": [
    "X.head()"
   ]
  },
  {
   "cell_type": "markdown",
   "metadata": {},
   "source": [
    "## Model - RF"
   ]
  },
  {
   "cell_type": "code",
   "execution_count": 37,
   "metadata": {
    "ExecuteTime": {
     "end_time": "2020-04-21T20:18:46.408886Z",
     "start_time": "2020-04-21T20:18:46.401497Z"
    }
   },
   "outputs": [],
   "source": [
    "X_train, X_test, y_train, y_test = train_test_split(X, y, test_size=0.3, random_state=42)"
   ]
  },
  {
   "cell_type": "code",
   "execution_count": 38,
   "metadata": {
    "ExecuteTime": {
     "end_time": "2020-04-21T20:18:46.877688Z",
     "start_time": "2020-04-21T20:18:46.410475Z"
    }
   },
   "outputs": [
    {
     "data": {
      "text/plain": [
       "RandomForestClassifier(bootstrap=True, class_weight=None, criterion='gini',\n",
       "                       max_depth=None, max_features='auto', max_leaf_nodes=None,\n",
       "                       min_impurity_decrease=0.0, min_impurity_split=None,\n",
       "                       min_samples_leaf=5, min_samples_split=2,\n",
       "                       min_weight_fraction_leaf=0.0, n_estimators=100,\n",
       "                       n_jobs=-1, oob_score=True, random_state=42, verbose=0,\n",
       "                       warm_start=False)"
      ]
     },
     "execution_count": 38,
     "metadata": {},
     "output_type": "execute_result"
    }
   ],
   "source": [
    "model = RandomForestClassifier(n_estimators=100, bootstrap=True, min_samples_leaf = 5,\n",
    "                               random_state=42, n_jobs = -1, oob_score= True)\n",
    "model.fit(X_train,y_train)"
   ]
  },
  {
   "cell_type": "code",
   "execution_count": 39,
   "metadata": {
    "ExecuteTime": {
     "end_time": "2020-04-21T20:18:46.987318Z",
     "start_time": "2020-04-21T20:18:46.878805Z"
    }
   },
   "outputs": [],
   "source": [
    "y_pred = model.predict(X_test)"
   ]
  },
  {
   "cell_type": "code",
   "execution_count": 40,
   "metadata": {
    "ExecuteTime": {
     "end_time": "2020-04-21T20:18:46.994203Z",
     "start_time": "2020-04-21T20:18:46.989379Z"
    }
   },
   "outputs": [
    {
     "data": {
      "text/plain": [
       "0.9773611111111111"
      ]
     },
     "execution_count": 40,
     "metadata": {},
     "output_type": "execute_result"
    }
   ],
   "source": [
    "accuracy_score(y_test,y_pred)"
   ]
  },
  {
   "cell_type": "markdown",
   "metadata": {
    "ExecuteTime": {
     "end_time": "2020-04-21T18:41:21.010423Z",
     "start_time": "2020-04-21T18:41:21.008241Z"
    }
   },
   "source": [
    "## Cross-validation"
   ]
  },
  {
   "cell_type": "code",
   "execution_count": 41,
   "metadata": {
    "ExecuteTime": {
     "end_time": "2020-04-21T20:18:57.053290Z",
     "start_time": "2020-04-21T20:18:46.995374Z"
    }
   },
   "outputs": [],
   "source": [
    "scores = cross_val_score(model, X, y, cv=5)"
   ]
  },
  {
   "cell_type": "code",
   "execution_count": 42,
   "metadata": {
    "ExecuteTime": {
     "end_time": "2020-04-21T20:18:57.059544Z",
     "start_time": "2020-04-21T20:18:57.055219Z"
    }
   },
   "outputs": [
    {
     "data": {
      "text/plain": [
       "array([0.98875   , 0.98041667, 0.975     , 0.97333333, 0.97416667])"
      ]
     },
     "execution_count": 42,
     "metadata": {},
     "output_type": "execute_result"
    }
   ],
   "source": [
    "scores"
   ]
  },
  {
   "cell_type": "markdown",
   "metadata": {},
   "source": [
    "## Feature importance"
   ]
  },
  {
   "cell_type": "code",
   "execution_count": 43,
   "metadata": {
    "ExecuteTime": {
     "end_time": "2020-04-21T20:18:58.388616Z",
     "start_time": "2020-04-21T20:18:57.060879Z"
    }
   },
   "outputs": [
    {
     "data": {
      "image/png": "[encoded data removed]",
      "text/plain": [
       "<Figure size 288x159.84 with 1 Axes>"
      ]
     },
     "metadata": {
      "needs_background": "light"
     },
     "output_type": "display_data"
    }
   ],
   "source": [
    "imp = importances(model, X_test, y_test, n_samples=-1)\n",
    "viz = plot_importances(imp)\n",
    "viz.view()"
   ]
  },
  {
   "cell_type": "markdown",
   "metadata": {},
   "source": [
    "### Google search domains"
   ]
  },
  {
   "cell_type": "code",
   "execution_count": 5,
   "metadata": {},
   "outputs": [],
   "source": [
    "import pandas as pd\n",
    "import tldextract\n",
    "import googlesearch\n",
    "import time\n",
    "import re\n",
    "import requests\n",
    "from bs4 import BeautifulSoup\n",
    "import multiprocessing as mp"
   ]
  },
  {
   "cell_type": "code",
   "execution_count": 13,
   "metadata": {},
   "outputs": [],
   "source": [
    "def google_query(query, num_results = 10,header = {'User-agent': 'your bot 0'}):\n",
    "    time.sleep(2)\n",
    "    query_str = query.replace(\" \",\"+\")\n",
    "    site = 'https://www.google.com/search?q=' + query\n",
    "    search_page = requests.get(site, headers = header)\n",
    "    search_soup = BeautifulSoup(search_page.text)\n",
    "    links = search_soup.findAll(\"a\")\n",
    "    all_links = []\n",
    "    for link in search_soup.find_all(\"a\",href=re.compile(\"(?<=/url\\?q=)(htt.*://.*)\"))[0:num_results]:\n",
    "        all_links.extend(re.split(\":(?=http)\",link[\"href\"].replace(\"/url?q=\",\"\")))\n",
    "    result = [tldextract.extract(link).domain for link in all_links]\n",
    "    return result"
   ]
  },
  {
   "cell_type": "code",
   "execution_count": 15,
   "metadata": {},
   "outputs": [],
   "source": [
    "res = google_query('potato monster')"
   ]
  },
  {
   "cell_type": "code",
   "execution_count": 19,
   "metadata": {},
   "outputs": [
    {
     "data": {
      "text/html": [
       "<div>\n",
       "<style scoped>\n",
       "    .dataframe tbody tr th:only-of-type {\n",
       "        vertical-align: middle;\n",
       "    }\n",
       "\n",
       "    .dataframe tbody tr th {\n",
       "        vertical-align: top;\n",
       "    }\n",
       "\n",
       "    .dataframe thead th {\n",
       "        text-align: right;\n",
       "    }\n",
       "</style>\n",
       "<table border=\"1\" class=\"dataframe\">\n",
       "  <thead>\n",
       "    <tr style=\"text-align: right;\">\n",
       "      <th></th>\n",
       "      <th>0</th>\n",
       "      <th>1</th>\n",
       "      <th>2</th>\n",
       "      <th>3</th>\n",
       "      <th>4</th>\n",
       "      <th>5</th>\n",
       "      <th>6</th>\n",
       "      <th>7</th>\n",
       "      <th>8</th>\n",
       "      <th>9</th>\n",
       "    </tr>\n",
       "  </thead>\n",
       "  <tbody>\n",
       "    <tr>\n",
       "      <th>0</th>\n",
       "      <td>fandom</td>\n",
       "      <td>fandom</td>\n",
       "      <td>fandom</td>\n",
       "      <td>fandom</td>\n",
       "      <td>fandom</td>\n",
       "      <td>littlepotatoes</td>\n",
       "      <td>littlepotatoes</td>\n",
       "      <td>youtube</td>\n",
       "      <td>youtube</td>\n",
       "      <td>facebook</td>\n",
       "    </tr>\n",
       "  </tbody>\n",
       "</table>\n",
       "</div>"
      ],
      "text/plain": [
       "        0       1       2       3       4               5               6  \\\n",
       "0  fandom  fandom  fandom  fandom  fandom  littlepotatoes  littlepotatoes   \n",
       "\n",
       "         7        8         9  \n",
       "0  youtube  youtube  facebook  "
      ]
     },
     "execution_count": 19,
     "metadata": {},
     "output_type": "execute_result"
    }
   ],
   "source": [
    "pd.DataFrame(res).T"
   ]
  },
  {
   "cell_type": "code",
   "execution_count": 44,
   "metadata": {},
   "outputs": [],
   "source": [
    "import pickle \n",
    "# Save the trained model as a pickle string. \n",
    "saved_model = pickle.dump(model, open('domain_model', 'wb')) \n",
    "saved_vocab = pickle.dump(links_dict, open('links_vocab', 'wb'))"
   ]
  },
  {
   "cell_type": "code",
   "execution_count": null,
   "metadata": {},
   "outputs": [],
   "source": []
  }
 ],
 "metadata": {
  "gist": {
   "data": {
    "description": "Desktop/Product Analytics/Links files/Merge csv-Copy1.ipynb",
    "public": false
   },
   "id": ""
  },
  "kernelspec": {
   "display_name": "Python 3",
   "language": "python",
   "name": "python3"
  },
  "language_info": {
   "codemirror_mode": {
    "name": "ipython",
    "version": 3
   },
   "file_extension": ".py",
   "mimetype": "text/x-python",
   "name": "python",
   "nbconvert_exporter": "python",
   "pygments_lexer": "ipython3",
   "version": "3.7.3"
  }
 },
 "nbformat": 4,
 "nbformat_minor": 2
}
